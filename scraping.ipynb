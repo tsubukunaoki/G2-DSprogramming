{
 "cells": [
  {
   "cell_type": "code",
   "execution_count": 4,
   "metadata": {},
   "outputs": [],
   "source": [
    "import requests\n",
    "from bs4 import BeautifulSoup\n",
    "import sqlite3"
   ]
  },
  {
   "cell_type": "code",
   "execution_count": 5,
   "metadata": {},
   "outputs": [],
   "source": [
    "class Scraping:\n",
    "    def __init__(self, db_path) -> None:\n",
    "        self.db_path = db_path\n",
    "    \n",
    "    def get_soup(self):\n",
    "        res = requests.get(f\"https://www.data.jma.go.jp/obd/stats/etrn/view/hourly_a1.php?prec_no=43&block_no=0359&year=2024&month=01&day={self.date}&view=\")\n",
    "        soup = BeautifulSoup(res.text, 'html.parser')\n",
    "        return soup\n",
    "    \n",
    "    def get_temp_list(self):\n",
    "        soup = self.get_soup()\n",
    "        raw_data = soup.find_all(\"td\", class_=\"data_0_0\")\n",
    "        temp_list = []\n",
    "        for i in range(1,240,10):\n",
    "            temp = raw_data[i]\n",
    "            temp = temp.text\n",
    "            temp_list.append(temp)\n",
    "        return temp_list\n",
    "    \n",
    "    def get_hour_list(self):\n",
    "        hour_list = []\n",
    "        for i in range(24):\n",
    "            hour_list.append(i)\n",
    "        return hour_list\n",
    "\n",
    "    def comb_data(self, temp:int, hour:int):\n",
    "        data_list = [self.date, hour, temp]\n",
    "        return data_list\n",
    "    \n",
    "    def insert_data(self, data :list):\n",
    "        conn = sqlite3.connect(self.db_path)\n",
    "        cur = conn.cursor()\n",
    "        cur.execute('INSERT INTO temp_table (date, hour, temperature) VALUES (?,?,?)', (data))\n",
    "        conn.commit()\n",
    "        conn.close()\n",
    "\n",
    "    def create_table(self):\n",
    "        conn = sqlite3.connect(self.db_path)\n",
    "        cursor = conn.cursor()\n",
    "\n",
    "        # テーブルが存在しない場合は作成\n",
    "        cursor.execute('''\n",
    "            CREATE TABLE IF NOT EXISTS temp_table (\n",
    "                id INTEGER PRIMARY KEY AUTOINCREMENT,\n",
    "                date INTEGER,\n",
    "                hour INTEGER,\n",
    "                temperature INTEGER\n",
    "            )\n",
    "        ''')\n",
    "        conn.commit()\n",
    "        conn.close()\n",
    "    \n",
    "    def all_insert(self, date:int):\n",
    "        self.create_table()\n",
    "        self.date = date\n",
    "        temp_list = self.get_temp_list()\n",
    "        hour_list = self.get_hour_list()\n",
    "        for i in range(len(temp_list)):\n",
    "            data_4_insert = self.comb_data(temp_list[i], hour_list[i])\n",
    "            self.insert_data(data_4_insert)"
   ]
  },
  {
   "cell_type": "code",
   "execution_count": 8,
   "metadata": {},
   "outputs": [],
   "source": [
    "handle = Scraping(\"/Users/naoki/G2-DSprogramming/G2-DSprogramming/test1.db\")\n",
    "handle.all_insert(15)"
   ]
  }
 ],
 "metadata": {
  "kernelspec": {
   "display_name": "DSP_venv",
   "language": "python",
   "name": "python3"
  },
  "language_info": {
   "codemirror_mode": {
    "name": "ipython",
    "version": 3
   },
   "file_extension": ".py",
   "mimetype": "text/x-python",
   "name": "python",
   "nbconvert_exporter": "python",
   "pygments_lexer": "ipython3",
   "version": "3.9.6"
  }
 },
 "nbformat": 4,
 "nbformat_minor": 2
}
